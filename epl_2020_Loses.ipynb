{
  "nbformat": 4,
  "nbformat_minor": 0,
  "metadata": {
    "colab": {
      "provenance": []
    },
    "kernelspec": {
      "name": "python3",
      "display_name": "Python 3"
    },
    "language_info": {
      "name": "python"
    }
  },
  "cells": [
    {
      "cell_type": "code",
      "execution_count": null,
      "metadata": {
        "colab": {
          "base_uri": "https://localhost:8080/"
        },
        "id": "AP-XKvaC7iU6",
        "outputId": "e137056f-dc95-4866-ea6e-599049ea5c26"
      },
      "outputs": [
        {
          "output_type": "stream",
          "name": "stdout",
          "text": [
            "Collecting dmba\n",
            "  Downloading dmba-0.2.4-py3-none-any.whl (11.8 MB)\n",
            "\u001b[2K     \u001b[90m━━━━━━━━━━━━━━━━━━━━━━━━━━━━━━━━━━━━━━━━\u001b[0m \u001b[32m11.8/11.8 MB\u001b[0m \u001b[31m77.8 MB/s\u001b[0m eta \u001b[36m0:00:00\u001b[0m\n",
            "\u001b[?25hRequirement already satisfied: graphviz in /usr/local/lib/python3.10/dist-packages (from dmba) (0.20.1)\n",
            "Requirement already satisfied: matplotlib in /usr/local/lib/python3.10/dist-packages (from dmba) (3.7.1)\n",
            "Requirement already satisfied: numpy in /usr/local/lib/python3.10/dist-packages (from dmba) (1.22.4)\n",
            "Requirement already satisfied: pandas in /usr/local/lib/python3.10/dist-packages (from dmba) (1.5.3)\n",
            "Requirement already satisfied: scikit-learn in /usr/local/lib/python3.10/dist-packages (from dmba) (1.2.2)\n",
            "Requirement already satisfied: scipy in /usr/local/lib/python3.10/dist-packages (from dmba) (1.10.1)\n",
            "Requirement already satisfied: contourpy>=1.0.1 in /usr/local/lib/python3.10/dist-packages (from matplotlib->dmba) (1.1.0)\n",
            "Requirement already satisfied: cycler>=0.10 in /usr/local/lib/python3.10/dist-packages (from matplotlib->dmba) (0.11.0)\n",
            "Requirement already satisfied: fonttools>=4.22.0 in /usr/local/lib/python3.10/dist-packages (from matplotlib->dmba) (4.40.0)\n",
            "Requirement already satisfied: kiwisolver>=1.0.1 in /usr/local/lib/python3.10/dist-packages (from matplotlib->dmba) (1.4.4)\n",
            "Requirement already satisfied: packaging>=20.0 in /usr/local/lib/python3.10/dist-packages (from matplotlib->dmba) (23.1)\n",
            "Requirement already satisfied: pillow>=6.2.0 in /usr/local/lib/python3.10/dist-packages (from matplotlib->dmba) (8.4.0)\n",
            "Requirement already satisfied: pyparsing>=2.3.1 in /usr/local/lib/python3.10/dist-packages (from matplotlib->dmba) (3.1.0)\n",
            "Requirement already satisfied: python-dateutil>=2.7 in /usr/local/lib/python3.10/dist-packages (from matplotlib->dmba) (2.8.2)\n",
            "Requirement already satisfied: pytz>=2020.1 in /usr/local/lib/python3.10/dist-packages (from pandas->dmba) (2022.7.1)\n",
            "Requirement already satisfied: joblib>=1.1.1 in /usr/local/lib/python3.10/dist-packages (from scikit-learn->dmba) (1.2.0)\n",
            "Requirement already satisfied: threadpoolctl>=2.0.0 in /usr/local/lib/python3.10/dist-packages (from scikit-learn->dmba) (3.1.0)\n",
            "Requirement already satisfied: six>=1.5 in /usr/local/lib/python3.10/dist-packages (from python-dateutil>=2.7->matplotlib->dmba) (1.16.0)\n",
            "Installing collected packages: dmba\n",
            "Successfully installed dmba-0.2.4\n"
          ]
        }
      ],
      "source": [
        "!pip install dmba"
      ]
    },
    {
      "cell_type": "code",
      "source": [
        "from pathlib import Path\n",
        "\n",
        "import pandas as pd\n",
        "from sklearn.model_selection import train_test_split\n",
        "from sklearn.linear_model import LinearRegression, Lasso, Ridge, LassoCV, BayesianRidge\n",
        "import statsmodels.formula.api as sm\n",
        "import matplotlib.pylab as plt\n",
        "import numpy as np\n",
        "import seaborn as sb\n",
        "\n",
        "import dmba\n",
        "from dmba import regressionSummary, exhaustive_search\n",
        "from dmba import backward_elimination, forward_selection, stepwise_selection\n",
        "from dmba import adjusted_r2_score, AIC_score, BIC_score\n",
        "from sklearn.linear_model import LogisticRegression\n",
        "from itertools import combinations\n",
        "from sklearn.base import clone\n",
        "from sklearn.metrics import accuracy_score\n",
        "from dmba import classificationSummary, gainsChart, liftChart\n",
        "%matplotlib inline"
      ],
      "metadata": {
        "id": "_1-RaVE97noU",
        "colab": {
          "base_uri": "https://localhost:8080/"
        },
        "outputId": "e4376441-683b-4d45-fccf-d0c0c71ce158"
      },
      "execution_count": null,
      "outputs": [
        {
          "output_type": "stream",
          "name": "stdout",
          "text": [
            "Colab environment detected.\n"
          ]
        }
      ]
    },
    {
      "cell_type": "code",
      "source": [
        "path = '/content/drive/MyDrive/datasets/epl2020.exc.xlsx'"
      ],
      "metadata": {
        "id": "SMYlVnph7tck"
      },
      "execution_count": null,
      "outputs": []
    },
    {
      "cell_type": "code",
      "source": [
        "epl = pd.read_excel(path)"
      ],
      "metadata": {
        "id": "yVLsdrWn8FbA"
      },
      "execution_count": null,
      "outputs": []
    },
    {
      "cell_type": "code",
      "source": [
        "clean= epl.drop(['deep', 'deep_allowed', 'scored', 'missed', 'pts', 'matchtime', 'ppda_cal', 'allowed_ppda', 'round', 'HS.x', 'HST.x', 'HF.x', 'HC.x', 'HY.x', 'HR.x', 'AS.x', 'AST.x', 'AF.x', 'AC.x', 'AY.x', 'AR.x', 'draws', 'wins','result','date','B365H.x','B365D.x','B365A.x','Referee.x', 'matchDay', 'teamId'], axis=1)"
      ],
      "metadata": {
        "id": "RMGm5eX771WN"
      },
      "execution_count": null,
      "outputs": []
    },
    {
      "cell_type": "code",
      "source": [
        "sliced= (clean[50:])"
      ],
      "metadata": {
        "id": "T4dGHTb58IiE"
      },
      "execution_count": null,
      "outputs": []
    },
    {
      "cell_type": "code",
      "source": [
        "X = sliced.drop(columns=['loses'])\n",
        "Y = sliced['loses']"
      ],
      "metadata": {
        "id": "U6UOJBDV8N-G"
      },
      "execution_count": null,
      "outputs": []
    },
    {
      "cell_type": "code",
      "source": [
        "print(X)"
      ],
      "metadata": {
        "colab": {
          "base_uri": "https://localhost:8080/"
        },
        "id": "to7R-LKn8TtJ",
        "outputId": "40be76ac-e0cf-4984-e81d-ef08a6279a2b"
      },
      "execution_count": null,
      "outputs": [
        {
          "output_type": "stream",
          "name": "stdout",
          "text": [
            "     Unnamed: 0        xG       xGA      npxG     npxGA    xpts     npxGD  \\\n",
            "50           51  2.293480  3.457680  2.293480  2.696510  0.6389 -0.403030   \n",
            "51           52  3.457680  2.293480  2.696510  2.293480  2.1833  0.403030   \n",
            "52           53  0.985542  2.788210  0.985542  2.027040  0.3434 -1.041498   \n",
            "53           54  2.788210  0.985542  2.027040  0.985542  2.5205  1.041498   \n",
            "54           55  1.893450  3.128560  1.893450  3.128560  0.6611 -1.235110   \n",
            "..          ...       ...       ...       ...       ...     ...       ...   \n",
            "571         572  0.445922  2.028830  0.445922  2.028830  0.2901 -1.582908   \n",
            "572         573  0.585469  1.738900  0.585469  1.738900  0.3539 -1.153431   \n",
            "573         574  1.738900  0.585469  1.738900  0.585469  2.4269  1.153431   \n",
            "574         575  0.672448  2.412390  0.672448  1.651220  0.2673 -0.978772   \n",
            "575         576  2.412390  0.672448  1.651220  0.672448  2.5950  0.978772   \n",
            "\n",
            "     tot_points  tot_goal  tot_con  HtrgPerc  AtrgPerc  h_a_h_a_a  \n",
            "50            0         1        7  0.130435  0.625000          1  \n",
            "51            4         4        7  0.130435  0.625000          0  \n",
            "52            6         4        4  0.200000  0.333333          0  \n",
            "53            9         9        3  0.200000  0.333333          1  \n",
            "54            4         4        5  0.700000  0.263158          1  \n",
            "..          ...       ...      ...       ...       ...        ...  \n",
            "571          37        37       46  0.647059  0.333333          0  \n",
            "572          57        68       31  0.500000  0.285714          0  \n",
            "573          45        44       30  0.500000  0.285714          1  \n",
            "574          25        34       56  0.466667  0.250000          0  \n",
            "575          53        58       28  0.466667  0.250000          1  \n",
            "\n",
            "[526 rows x 13 columns]\n"
          ]
        }
      ]
    },
    {
      "cell_type": "code",
      "source": [
        "print(Y)"
      ],
      "metadata": {
        "colab": {
          "base_uri": "https://localhost:8080/"
        },
        "id": "I5s9DFjG8Tlw",
        "outputId": "cee2f873-a0d6-4b81-ed97-b03f95fac9bf"
      },
      "execution_count": null,
      "outputs": [
        {
          "output_type": "stream",
          "name": "stdout",
          "text": [
            "50     1\n",
            "51     0\n",
            "52     1\n",
            "53     0\n",
            "54     1\n",
            "      ..\n",
            "571    1\n",
            "572    1\n",
            "573    0\n",
            "574    1\n",
            "575    0\n",
            "Name: loses, Length: 526, dtype: int64\n"
          ]
        }
      ]
    },
    {
      "cell_type": "code",
      "source": [
        "#sliced['h_a_h_a'] = sliced['h_a_h_a'].astype('category')\n",
        "#new_categories = {0: 'h', 1: 'a'}\n",
        "#sliced.h_a_h_a.cat.rename_categories(new_categories, inplace=True)"
      ],
      "metadata": {
        "id": "XdGBcw1m8X7d"
      },
      "execution_count": null,
      "outputs": []
    },
    {
      "cell_type": "code",
      "source": [
        "#sliced = pd.get_dummies(sliced, prefix_sep='_', drop_first=True)\n",
        "#Y = sliced['h_a']\n",
        "#X = sliced.drop(columns=['h_a'])"
      ],
      "metadata": {
        "id": "HB8CeWBX8emh"
      },
      "execution_count": null,
      "outputs": []
    },
    {
      "cell_type": "code",
      "source": [
        "print(sliced)"
      ],
      "metadata": {
        "colab": {
          "base_uri": "https://localhost:8080/"
        },
        "id": "DwmKMQ8K8oiP",
        "outputId": "1e80f8d2-78c7-4a7d-a8a3-02ad0578c3f0"
      },
      "execution_count": null,
      "outputs": [
        {
          "output_type": "stream",
          "name": "stdout",
          "text": [
            "     Unnamed: 0        xG       xGA      npxG     npxGA    xpts  loses  \\\n",
            "50           51  2.293480  3.457680  2.293480  2.696510  0.6389      1   \n",
            "51           52  3.457680  2.293480  2.696510  2.293480  2.1833      0   \n",
            "52           53  0.985542  2.788210  0.985542  2.027040  0.3434      1   \n",
            "53           54  2.788210  0.985542  2.027040  0.985542  2.5205      0   \n",
            "54           55  1.893450  3.128560  1.893450  3.128560  0.6611      1   \n",
            "..          ...       ...       ...       ...       ...     ...    ...   \n",
            "571         572  0.445922  2.028830  0.445922  2.028830  0.2901      1   \n",
            "572         573  0.585469  1.738900  0.585469  1.738900  0.3539      1   \n",
            "573         574  1.738900  0.585469  1.738900  0.585469  2.4269      0   \n",
            "574         575  0.672448  2.412390  0.672448  1.651220  0.2673      1   \n",
            "575         576  2.412390  0.672448  1.651220  0.672448  2.5950      0   \n",
            "\n",
            "        npxGD  tot_points  tot_goal  tot_con  HtrgPerc  AtrgPerc  h_a_h_a_a  \n",
            "50  -0.403030           0         1        7  0.130435  0.625000          1  \n",
            "51   0.403030           4         4        7  0.130435  0.625000          0  \n",
            "52  -1.041498           6         4        4  0.200000  0.333333          0  \n",
            "53   1.041498           9         9        3  0.200000  0.333333          1  \n",
            "54  -1.235110           4         4        5  0.700000  0.263158          1  \n",
            "..        ...         ...       ...      ...       ...       ...        ...  \n",
            "571 -1.582908          37        37       46  0.647059  0.333333          0  \n",
            "572 -1.153431          57        68       31  0.500000  0.285714          0  \n",
            "573  1.153431          45        44       30  0.500000  0.285714          1  \n",
            "574 -0.978772          25        34       56  0.466667  0.250000          0  \n",
            "575  0.978772          53        58       28  0.466667  0.250000          1  \n",
            "\n",
            "[526 rows x 14 columns]\n"
          ]
        }
      ]
    },
    {
      "cell_type": "code",
      "source": [
        "train_X, valid_X, train_Y, valid_Y = train_test_split(X, Y, test_size=0.4, random_state=1)\n",
        "logit_reg = LogisticRegression(penalty=\"l2\", C=1e42, solver='liblinear')\n",
        "logit_reg.fit(train_X, train_Y)\n",
        "print('intercept ', logit_reg.intercept_[0])\n",
        "print(pd.DataFrame({'coeff': logit_reg.coef_[0]}, index=X.columns).transpose())\n",
        "print('AIC', AIC_score(valid_Y, logit_reg.predict(valid_X), df = len(train_X.columns) + 1))"
      ],
      "metadata": {
        "colab": {
          "base_uri": "https://localhost:8080/"
        },
        "id": "Sgyjxq8D8xi2",
        "outputId": "db47fc02-97d6-44d5-e02e-8758df8df077"
      },
      "execution_count": null,
      "outputs": [
        {
          "output_type": "stream",
          "name": "stdout",
          "text": [
            "intercept  -3.4134399412457483\n",
            "       Unnamed: 0        xG       xGA      npxG     npxGA      xpts    npxGD  \\\n",
            "coeff    0.001631 -2.665453  2.552663  0.058572 -0.005818  2.170592  0.06439   \n",
            "\n",
            "       tot_points  tot_goal   tot_con  HtrgPerc  AtrgPerc  h_a_h_a_a  \n",
            "coeff   -0.163077  0.125957  0.000203  0.948445 -0.652254  -0.378334  \n",
            "AIC 316.3734081504868\n"
          ]
        }
      ]
    },
    {
      "cell_type": "code",
      "source": [
        "logit_reg_pred = logit_reg.predict(valid_X)\n",
        "logit_reg_proba = logit_reg.predict_proba(valid_X)\n",
        "logit_result = pd.DataFrame({'actual': valid_Y,'p(0)': [p[0] for p in logit_reg_proba],'p(1)': [p[1] for p in logit_reg_proba],'predicted': logit_reg_pred })\n",
        "\n",
        "# display four different cases\n",
        "interestingCases = [350,300,400]\n",
        "print(logit_result.loc[interestingCases])"
      ],
      "metadata": {
        "colab": {
          "base_uri": "https://localhost:8080/"
        },
        "id": "4wR78eam8-n2",
        "outputId": "a86b64e2-f6bf-4a1a-e86a-ec626dad52e8"
      },
      "execution_count": null,
      "outputs": [
        {
          "output_type": "stream",
          "name": "stdout",
          "text": [
            "     actual      p(0)      p(1)  predicted\n",
            "350       0  0.887519  0.112481          0\n",
            "300       1  0.447281  0.552719          1\n",
            "400       1  0.878905  0.121095          0\n"
          ]
        }
      ]
    },
    {
      "cell_type": "code",
      "source": [
        "df = logit_result.sort_values(by=['p(1)'], ascending=False)\n",
        "fig, axes = plt.subplots(nrows=1, ncols=2, figsize=(10, 4))\n",
        "gainsChart(df.actual, ax=axes[0])\n",
        "liftChart(df['p(1)'], title=False, ax=axes[1])\n",
        "plt.show()"
      ],
      "metadata": {
        "colab": {
          "base_uri": "https://localhost:8080/",
          "height": 400
        },
        "id": "q--2itnc9Emx",
        "outputId": "310b867e-f88a-4b23-ccba-9a388344c37b"
      },
      "execution_count": null,
      "outputs": [
        {
          "output_type": "display_data",
          "data": {
            "text/plain": [
              "<Figure size 1000x400 with 2 Axes>"
            ],
            "image/png": "[encoded data removed]"
          },
          "metadata": {}
        }
      ]
    },
    {
      "cell_type": "code",
      "source": [
        "print(\"\\nValidation Set: Confusion matrix\\n\")\n",
        "classificationSummary(valid_Y, logit_reg_pred)"
      ],
      "metadata": {
        "colab": {
          "base_uri": "https://localhost:8080/"
        },
        "id": "E_narzOL9HFY",
        "outputId": "063135bd-c375-46f5-ef22-1a180901863e"
      },
      "execution_count": null,
      "outputs": [
        {
          "output_type": "stream",
          "name": "stdout",
          "text": [
            "\n",
            "Validation Set: Confusion matrix\n",
            "\n",
            "Confusion Matrix (Accuracy 0.7725)\n",
            "\n",
            "       Prediction\n",
            "Actual   0   1\n",
            "     0 116  14\n",
            "     1  34  47\n"
          ]
        }
      ]
    },
    {
      "cell_type": "code",
      "source": [
        "from sklearn.metrics import classification_report\n",
        "print(classification_report(valid_Y, logit_reg_pred))"
      ],
      "metadata": {
        "colab": {
          "base_uri": "https://localhost:8080/"
        },
        "id": "sGbwUlI70kZZ",
        "outputId": "0403354d-6928-4386-9e1e-d16d689d3048"
      },
      "execution_count": null,
      "outputs": [
        {
          "output_type": "stream",
          "name": "stdout",
          "text": [
            "              precision    recall  f1-score   support\n",
            "\n",
            "           0       0.77      0.89      0.83       130\n",
            "           1       0.77      0.58      0.66        81\n",
            "\n",
            "    accuracy                           0.77       211\n",
            "   macro avg       0.77      0.74      0.75       211\n",
            "weighted avg       0.77      0.77      0.76       211\n",
            "\n"
          ]
        }
      ]
    },
    {
      "cell_type": "markdown",
      "source": [
        "Feature scaling"
      ],
      "metadata": {
        "id": "cGhpA78K-GCI"
      }
    },
    {
      "cell_type": "code",
      "source": [
        "from sklearn.model_selection import train_test_split\n",
        "X_train, X_test, Y_train, Y_test = train_test_split(X, Y, test_size = 0.4, random_state = 1)"
      ],
      "metadata": {
        "id": "e62Hf2Yh9Qak"
      },
      "execution_count": null,
      "outputs": []
    },
    {
      "cell_type": "code",
      "source": [
        "from sklearn.preprocessing import StandardScaler\n",
        "sc = StandardScaler()\n",
        "X_train = sc.fit_transform(X_train)\n",
        "X_test = sc.transform(X_test)"
      ],
      "metadata": {
        "id": "KMYrmS4S9Vo8"
      },
      "execution_count": null,
      "outputs": []
    },
    {
      "cell_type": "code",
      "source": [
        "from sklearn.linear_model import LogisticRegression\n",
        "classifier = LogisticRegression(random_state = 1)\n",
        "classifier.fit(X_train, Y_train)"
      ],
      "metadata": {
        "colab": {
          "base_uri": "https://localhost:8080/",
          "height": 75
        },
        "id": "kBU7_jJv9XxA",
        "outputId": "82eb4fb4-d279-4f15-e318-365caf8f9fca"
      },
      "execution_count": null,
      "outputs": [
        {
          "output_type": "execute_result",
          "data": {
            "text/plain": [
              "LogisticRegression(random_state=1)"
            ],
            "text/html": [
              "<style>#sk-container-id-2 {color: black;background-color: white;}#sk-container-id-2 pre{padding: 0;}#sk-container-id-2 div.sk-toggleable {background-color: white;}#sk-container-id-2 label.sk-toggleable__label {cursor: pointer;display: block;width: 100%;margin-bottom: 0;padding: 0.3em;box-sizing: border-box;text-align: center;}#sk-container-id-2 label.sk-toggleable__label-arrow:before {content: \"▸\";float: left;margin-right: 0.25em;color: #696969;}#sk-container-id-2 label.sk-toggleable__label-arrow:hover:before {color: black;}#sk-container-id-2 div.sk-estimator:hover label.sk-toggleable__label-arrow:before {color: black;}#sk-container-id-2 div.sk-toggleable__content {max-height: 0;max-width: 0;overflow: hidden;text-align: left;background-color: #f0f8ff;}#sk-container-id-2 div.sk-toggleable__content pre {margin: 0.2em;color: black;border-radius: 0.25em;background-color: #f0f8ff;}#sk-container-id-2 input.sk-toggleable__control:checked~div.sk-toggleable__content {max-height: 200px;max-width: 100%;overflow: auto;}#sk-container-id-2 input.sk-toggleable__control:checked~label.sk-toggleable__label-arrow:before {content: \"▾\";}#sk-container-id-2 div.sk-estimator input.sk-toggleable__control:checked~label.sk-toggleable__label {background-color: #d4ebff;}#sk-container-id-2 div.sk-label input.sk-toggleable__control:checked~label.sk-toggleable__label {background-color: #d4ebff;}#sk-container-id-2 input.sk-hidden--visually {border: 0;clip: rect(1px 1px 1px 1px);clip: rect(1px, 1px, 1px, 1px);height: 1px;margin: -1px;overflow: hidden;padding: 0;position: absolute;width: 1px;}#sk-container-id-2 div.sk-estimator {font-family: monospace;background-color: #f0f8ff;border: 1px dotted black;border-radius: 0.25em;box-sizing: border-box;margin-bottom: 0.5em;}#sk-container-id-2 div.sk-estimator:hover {background-color: #d4ebff;}#sk-container-id-2 div.sk-parallel-item::after {content: \"\";width: 100%;border-bottom: 1px solid gray;flex-grow: 1;}#sk-container-id-2 div.sk-label:hover label.sk-toggleable__label {background-color: #d4ebff;}#sk-container-id-2 div.sk-serial::before {content: \"\";position: absolute;border-left: 1px solid gray;box-sizing: border-box;top: 0;bottom: 0;left: 50%;z-index: 0;}#sk-container-id-2 div.sk-serial {display: flex;flex-direction: column;align-items: center;background-color: white;padding-right: 0.2em;padding-left: 0.2em;position: relative;}#sk-container-id-2 div.sk-item {position: relative;z-index: 1;}#sk-container-id-2 div.sk-parallel {display: flex;align-items: stretch;justify-content: center;background-color: white;position: relative;}#sk-container-id-2 div.sk-item::before, #sk-container-id-2 div.sk-parallel-item::before {content: \"\";position: absolute;border-left: 1px solid gray;box-sizing: border-box;top: 0;bottom: 0;left: 50%;z-index: -1;}#sk-container-id-2 div.sk-parallel-item {display: flex;flex-direction: column;z-index: 1;position: relative;background-color: white;}#sk-container-id-2 div.sk-parallel-item:first-child::after {align-self: flex-end;width: 50%;}#sk-container-id-2 div.sk-parallel-item:last-child::after {align-self: flex-start;width: 50%;}#sk-container-id-2 div.sk-parallel-item:only-child::after {width: 0;}#sk-container-id-2 div.sk-dashed-wrapped {border: 1px dashed gray;margin: 0 0.4em 0.5em 0.4em;box-sizing: border-box;padding-bottom: 0.4em;background-color: white;}#sk-container-id-2 div.sk-label label {font-family: monospace;font-weight: bold;display: inline-block;line-height: 1.2em;}#sk-container-id-2 div.sk-label-container {text-align: center;}#sk-container-id-2 div.sk-container {/* jupyter's `normalize.less` sets `[hidden] { display: none; }` but bootstrap.min.css set `[hidden] { display: none !important; }` so we also need the `!important` here to be able to override the default hidden behavior on the sphinx rendered scikit-learn.org. See: https://github.com/scikit-learn/scikit-learn/issues/21755 */display: inline-block !important;position: relative;}#sk-container-id-2 div.sk-text-repr-fallback {display: none;}</style><div id=\"sk-container-id-2\" class=\"sk-top-container\"><div class=\"sk-text-repr-fallback\"><pre>LogisticRegression(random_state=1)</pre><b>In a Jupyter environment, please rerun this cell to show the HTML representation or trust the notebook. <br />On GitHub, the HTML representation is unable to render, please try loading this page with nbviewer.org.</b></div><div class=\"sk-container\" hidden><div class=\"sk-item\"><div class=\"sk-estimator sk-toggleable\"><input class=\"sk-toggleable__control sk-hidden--visually\" id=\"sk-estimator-id-2\" type=\"checkbox\" checked><label for=\"sk-estimator-id-2\" class=\"sk-toggleable__label sk-toggleable__label-arrow\">LogisticRegression</label><div class=\"sk-toggleable__content\"><pre>LogisticRegression(random_state=1)</pre></div></div></div></div></div>"
            ]
          },
          "metadata": {},
          "execution_count": 65
        }
      ]
    },
    {
      "cell_type": "code",
      "source": [
        "#classifier = pd.DataFrame({'actual': valid_Y,'p(0)': [p[0] for p in logit_reg_proba],'p(1)': [p[1] for p in logit_reg_proba],'predicted': logit_reg_pred })"
      ],
      "metadata": {
        "id": "AGK_EO0xDKlz"
      },
      "execution_count": null,
      "outputs": []
    },
    {
      "cell_type": "code",
      "source": [
        "print(classifier)"
      ],
      "metadata": {
        "colab": {
          "base_uri": "https://localhost:8080/"
        },
        "id": "Th_696aM9Z-S",
        "outputId": "728d345e-debf-47d1-a226-0c6cc76cdbd3"
      },
      "execution_count": null,
      "outputs": [
        {
          "output_type": "stream",
          "name": "stdout",
          "text": [
            "LogisticRegression(random_state=1)\n"
          ]
        }
      ]
    },
    {
      "cell_type": "code",
      "source": [
        "print(Y_train)"
      ],
      "metadata": {
        "colab": {
          "base_uri": "https://localhost:8080/"
        },
        "id": "P4AEWril9vPy",
        "outputId": "c1ae6593-4e1c-4b1b-8301-1c2991c6a3c8"
      },
      "execution_count": null,
      "outputs": [
        {
          "output_type": "stream",
          "name": "stdout",
          "text": [
            "236    0\n",
            "394    0\n",
            "526    0\n",
            "562    1\n",
            "484    0\n",
            "      ..\n",
            "179    0\n",
            "194    0\n",
            "122    0\n",
            "285    0\n",
            "87     0\n",
            "Name: loses, Length: 315, dtype: int64\n"
          ]
        }
      ]
    },
    {
      "cell_type": "code",
      "source": [
        "print(X_train)"
      ],
      "metadata": {
        "colab": {
          "base_uri": "https://localhost:8080/"
        },
        "id": "hT630hf99wIW",
        "outputId": "c3bbc6b0-cf7e-4a0b-d6f6-fcd40b99c2ce"
      },
      "execution_count": null,
      "outputs": [
        {
          "output_type": "stream",
          "name": "stdout",
          "text": [
            "[[-0.49496623  2.52464548 -0.3703855  ...  1.14576914 -0.13214262\n",
            "   1.01600102]\n",
            " [ 0.53831548  0.07181228 -1.25961074 ... -0.32147337 -0.9590706\n",
            "   1.01600102]\n",
            " [ 1.40156348  0.37167802 -1.48960392 ...  0.98967951 -0.6489726\n",
            "   1.01600102]\n",
            " ...\n",
            " [-1.24049859 -0.58285222  0.24709164 ... -1.05899686 -0.33887461\n",
            "   1.01600102]\n",
            " [-0.1745181   0.62343453 -0.68587027 ...  0.0718725  -0.13214262\n",
            "   1.01600102]\n",
            " [-1.46939011 -0.37189324 -1.14952809 ...  0.98967951 -0.13214262\n",
            "   1.01600102]]\n"
          ]
        }
      ]
    },
    {
      "cell_type": "code",
      "source": [
        "Y_pred = classifier.predict(X_test)"
      ],
      "metadata": {
        "id": "wXg1HcOM9cxy"
      },
      "execution_count": null,
      "outputs": []
    },
    {
      "cell_type": "code",
      "source": [
        "from sklearn.metrics import confusion_matrix, accuracy_score\n",
        "cm = confusion_matrix(Y_test, Y_pred)\n",
        "print(cm)\n",
        "accuracy_score(Y_test, Y_pred)"
      ],
      "metadata": {
        "colab": {
          "base_uri": "https://localhost:8080/"
        },
        "id": "Ii9HAQYSDSDH",
        "outputId": "be9b5c68-6920-440a-ae76-3b3879ada344"
      },
      "execution_count": null,
      "outputs": [
        {
          "output_type": "stream",
          "name": "stdout",
          "text": [
            "[[115  15]\n",
            " [ 30  51]]\n"
          ]
        },
        {
          "output_type": "execute_result",
          "data": {
            "text/plain": [
              "0.7867298578199052"
            ]
          },
          "metadata": {},
          "execution_count": 71
        }
      ]
    },
    {
      "cell_type": "code",
      "source": [
        "df = classifier.sort_values(by=['p(1)'], ascending=False)\n",
        "fig, axes = plt.subplots(nrows=1, ncols=2, figsize=(10, 4))\n",
        "gainsChart(df.actual, ax=axes[0])\n",
        "liftChart(df['p(1)'], title=False, ax=axes[1])\n",
        "plt.show()"
      ],
      "metadata": {
        "colab": {
          "base_uri": "https://localhost:8080/",
          "height": 235
        },
        "id": "gms1flVUDkgA",
        "outputId": "5202a117-8bc8-4fc0-e9e1-048dae797e0b"
      },
      "execution_count": null,
      "outputs": [
        {
          "output_type": "error",
          "ename": "AttributeError",
          "evalue": "ignored",
          "traceback": [
            "\u001b[0;31m---------------------------------------------------------------------------\u001b[0m",
            "\u001b[0;31mAttributeError\u001b[0m                            Traceback (most recent call last)",
            "\u001b[0;32m<ipython-input-72-e87f77794eb0>\u001b[0m in \u001b[0;36m<cell line: 1>\u001b[0;34m()\u001b[0m\n\u001b[0;32m----> 1\u001b[0;31m \u001b[0mdf\u001b[0m \u001b[0;34m=\u001b[0m \u001b[0mclassifier\u001b[0m\u001b[0;34m.\u001b[0m\u001b[0msort_values\u001b[0m\u001b[0;34m(\u001b[0m\u001b[0mby\u001b[0m\u001b[0;34m=\u001b[0m\u001b[0;34m[\u001b[0m\u001b[0;34m'p(1)'\u001b[0m\u001b[0;34m]\u001b[0m\u001b[0;34m,\u001b[0m \u001b[0mascending\u001b[0m\u001b[0;34m=\u001b[0m\u001b[0;32mFalse\u001b[0m\u001b[0;34m)\u001b[0m\u001b[0;34m\u001b[0m\u001b[0;34m\u001b[0m\u001b[0m\n\u001b[0m\u001b[1;32m      2\u001b[0m \u001b[0mfig\u001b[0m\u001b[0;34m,\u001b[0m \u001b[0maxes\u001b[0m \u001b[0;34m=\u001b[0m \u001b[0mplt\u001b[0m\u001b[0;34m.\u001b[0m\u001b[0msubplots\u001b[0m\u001b[0;34m(\u001b[0m\u001b[0mnrows\u001b[0m\u001b[0;34m=\u001b[0m\u001b[0;36m1\u001b[0m\u001b[0;34m,\u001b[0m \u001b[0mncols\u001b[0m\u001b[0;34m=\u001b[0m\u001b[0;36m2\u001b[0m\u001b[0;34m,\u001b[0m \u001b[0mfigsize\u001b[0m\u001b[0;34m=\u001b[0m\u001b[0;34m(\u001b[0m\u001b[0;36m10\u001b[0m\u001b[0;34m,\u001b[0m \u001b[0;36m4\u001b[0m\u001b[0;34m)\u001b[0m\u001b[0;34m)\u001b[0m\u001b[0;34m\u001b[0m\u001b[0;34m\u001b[0m\u001b[0m\n\u001b[1;32m      3\u001b[0m \u001b[0mgainsChart\u001b[0m\u001b[0;34m(\u001b[0m\u001b[0mdf\u001b[0m\u001b[0;34m.\u001b[0m\u001b[0mactual\u001b[0m\u001b[0;34m,\u001b[0m \u001b[0max\u001b[0m\u001b[0;34m=\u001b[0m\u001b[0maxes\u001b[0m\u001b[0;34m[\u001b[0m\u001b[0;36m0\u001b[0m\u001b[0;34m]\u001b[0m\u001b[0;34m)\u001b[0m\u001b[0;34m\u001b[0m\u001b[0;34m\u001b[0m\u001b[0m\n\u001b[1;32m      4\u001b[0m \u001b[0mliftChart\u001b[0m\u001b[0;34m(\u001b[0m\u001b[0mdf\u001b[0m\u001b[0;34m[\u001b[0m\u001b[0;34m'p(1)'\u001b[0m\u001b[0;34m]\u001b[0m\u001b[0;34m,\u001b[0m \u001b[0mtitle\u001b[0m\u001b[0;34m=\u001b[0m\u001b[0;32mFalse\u001b[0m\u001b[0;34m,\u001b[0m \u001b[0max\u001b[0m\u001b[0;34m=\u001b[0m\u001b[0maxes\u001b[0m\u001b[0;34m[\u001b[0m\u001b[0;36m1\u001b[0m\u001b[0;34m]\u001b[0m\u001b[0;34m)\u001b[0m\u001b[0;34m\u001b[0m\u001b[0;34m\u001b[0m\u001b[0m\n\u001b[1;32m      5\u001b[0m \u001b[0mplt\u001b[0m\u001b[0;34m.\u001b[0m\u001b[0mshow\u001b[0m\u001b[0;34m(\u001b[0m\u001b[0;34m)\u001b[0m\u001b[0;34m\u001b[0m\u001b[0;34m\u001b[0m\u001b[0m\n",
            "\u001b[0;31mAttributeError\u001b[0m: 'LogisticRegression' object has no attribute 'sort_values'"
          ]
        }
      ]
    },
    {
      "cell_type": "code",
      "source": [
        "from sklearn.metrics import classification_report\n",
        "print(classification_report(Y_test, Y_pred))"
      ],
      "metadata": {
        "id": "YKdDtU-W1wO0",
        "outputId": "676f7d2d-615d-4095-9f36-206c93353789",
        "colab": {
          "base_uri": "https://localhost:8080/"
        }
      },
      "execution_count": null,
      "outputs": [
        {
          "output_type": "stream",
          "name": "stdout",
          "text": [
            "              precision    recall  f1-score   support\n",
            "\n",
            "           0       0.79      0.88      0.84       130\n",
            "           1       0.77      0.63      0.69        81\n",
            "\n",
            "    accuracy                           0.79       211\n",
            "   macro avg       0.78      0.76      0.77       211\n",
            "weighted avg       0.79      0.79      0.78       211\n",
            "\n"
          ]
        }
      ]
    }
  ]
}